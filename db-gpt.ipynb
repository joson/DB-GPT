{
 "cells": [
  {
   "cell_type": "code",
   "execution_count": 1,
   "id": "163e0c25",
   "metadata": {
    "_cell_guid": "b1076dfc-b9ad-4769-8c92-a6c4dae69d19",
    "_uuid": "8f2839f25d086af736a60e9eeb907d3b93b6e0e5",
    "execution": {
     "iopub.execute_input": "2023-10-11T10:19:05.293049Z",
     "iopub.status.busy": "2023-10-11T10:19:05.292365Z",
     "iopub.status.idle": "2023-10-11T10:19:11.801792Z",
     "shell.execute_reply": "2023-10-11T10:19:11.800834Z"
    },
    "papermill": {
     "duration": 6.515139,
     "end_time": "2023-10-11T10:19:11.804107",
     "exception": false,
     "start_time": "2023-10-11T10:19:05.288968",
     "status": "completed"
    },
    "tags": []
   },
   "outputs": [
    {
     "name": "stdout",
     "output_type": "stream",
     "text": [
      "Cloning into 'DB-GPT'...\r\n",
      "remote: Enumerating objects: 15511, done.\u001b[K\r\n",
      "remote: Counting objects: 100% (5941/5941), done.\u001b[K\r\n",
      "remote: Compressing objects: 100% (2300/2300), done.\u001b[K\r\n",
      "remote: Total 15511 (delta 3631), reused 4081 (delta 3578), pack-reused 9570\u001b[K\r\n",
      "Receiving objects: 100% (15511/15511), 136.31 MiB | 43.17 MiB/s, done.\r\n",
      "Resolving deltas: 100% (10193/10193), done.\r\n"
     ]
    }
   ],
   "source": [
    "! git clone https://github.com/joson/DB-GPT.git"
   ]
  }
 ],
 "metadata": {
  "kernelspec": {
   "display_name": "Python 3",
   "language": "python",
   "name": "python3"
  },
  "language_info": {
   "codemirror_mode": {
    "name": "ipython",
    "version": 3
   },
   "file_extension": ".py",
   "mimetype": "text/x-python",
   "name": "python",
   "nbconvert_exporter": "python",
   "pygments_lexer": "ipython3",
   "version": "3.10.12"
  },
  "papermill": {
   "default_parameters": {},
   "duration": 9.759228,
   "end_time": "2023-10-11T10:19:12.126682",
   "environment_variables": {},
   "exception": null,
   "input_path": "__notebook__.ipynb",
   "output_path": "__notebook__.ipynb",
   "parameters": {},
   "start_time": "2023-10-11T10:19:02.367454",
   "version": "2.4.0"
  }
 },
 "nbformat": 4,
 "nbformat_minor": 5
}
